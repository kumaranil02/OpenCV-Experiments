{
  "nbformat": 4,
  "nbformat_minor": 0,
  "metadata": {
    "colab": {
      "provenance": []
    },
    "kernelspec": {
      "name": "python3",
      "display_name": "Python 3"
    },
    "language_info": {
      "name": "python"
    }
  },
  "cells": [
    {
      "cell_type": "code",
      "source": [
        "from PIL import Image\n",
        "\n",
        "img1_path = \"/content/img3.PNG\"\n",
        "img2_path = \"/content/img4.PNG\"\n",
        "\n",
        "# Load the two input images\n",
        "img1 = Image.open(img1_path)\n",
        "img2 = Image.open(img2_path)\n",
        "\n",
        "# Get the size of the images\n",
        "width, height = img1.size\n",
        "\n",
        "\n",
        "print(height,height1,width,width1)\n",
        "# Calculate the difference between the two images pixel by pixel\n",
        "diff = 0\n",
        "for x in range(width):\n",
        "    for y in range(height):\n",
        "        # Get the RGB values of the pixels at (x, y) in both images\n",
        "        r1, g1, b1,c1 = img1.getpixel((x, y))\n",
        "        r2, g2, b2,c2 = img2.getpixel((x, y))\n",
        "        \n",
        "        # Calculate the absolute difference between the RGB values\n",
        "        diff += abs(r1 - r2) + abs(g1 - g2) + abs(b1 - b2) + abs(c1 - c2)\n",
        "\n",
        "# Calculate the maximum possible difference for the two images\n",
        "max_diff = 3 * 255 * width * height\n",
        "\n",
        "# Calculate the percentage difference between the two images\n",
        "percentage_diff = (diff / max_diff) * 100\n",
        "\n",
        "# Print the percentage difference\n",
        "print(\"Percentage difference between the two images: {:.2f}%\".format(percentage_diff))\n"
      ],
      "metadata": {
        "colab": {
          "base_uri": "https://localhost:8080/",
          "height": 0
        },
        "id": "CmgZwW6V6Mal",
        "outputId": "4824b823-0616-4258-9bf2-7485ed88d706"
      },
      "execution_count": 42,
      "outputs": [
        {
          "output_type": "stream",
          "name": "stdout",
          "text": [
            "248 245 534 527\n",
            "Percentage difference between the two images: 15.91%\n"
          ]
        }
      ]
    },
    {
      "cell_type": "code",
      "source": [],
      "metadata": {
        "id": "_-DRH2aD7GI6"
      },
      "execution_count": null,
      "outputs": []
    }
  ]
}